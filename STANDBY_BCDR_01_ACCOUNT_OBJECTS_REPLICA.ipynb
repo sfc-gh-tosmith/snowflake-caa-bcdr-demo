{
 "cells": [
  {
   "cell_type": "markdown",
   "id": "ce110000-1111-2222-3333-ffffff000000",
   "metadata": {
    "collapsed": false,
    "name": "cell1"
   },
   "source": [
    "# BC/DR: Standby Account - Account Objects Replica (Snowflake)\n",
    "\n",
    "This notebook contains the steps to configure the standby account for account-level object replication using a failover group replica. Run these steps in the standby account.\n",
    "\n",
    "References:\n",
    "- [CREATE FAILOVER GROUP](https://docs.snowflake.com/en/sql-reference/sql/create-failover-group)\n",
    "- [ALTER FAILOVER GROUP](https://docs.snowflake.com/en/sql-reference/sql/alter-failover-group)\n",
    "- [SYSTEM$LINK_ACCOUNT_OBJECTS_BY_NAME](https://docs.snowflake.com/en/sql-reference/functions/system_link_account_objects_by_name)\n"
   ]
  },
  {
   "cell_type": "markdown",
   "id": "ce110000-1111-2222-3333-ffffff000001",
   "metadata": {
    "name": "cell2"
   },
   "source": [
    "## Step 1: Create replica failover group (run as ACCOUNTADMIN)\n",
    "\n",
    "Create the replica of the primary failover group. Replace placeholders like `<ORG_NAME>` and `<PRIMARY_ACCOUNT_NAME>`.\n",
    "\n",
    "- This establishes the replicated object container in the standby account.\n",
    "- Subsequent refreshes pull changes from the primary.\n"
   ]
  },
  {
   "cell_type": "code",
   "execution_count": null,
   "id": "ce110000-1111-2222-3333-ffffff000002",
   "metadata": {
    "language": "sql",
    "name": "cell3",
    "vscode": {
     "languageId": "sql"
    }
   },
   "outputs": [],
   "source": [
    "-- Role: ACCOUNTADMIN (standby account)\n",
    "USE ROLE ACCOUNTADMIN;\n",
    "\n",
    "-- Create the replica failover group in the standby account\n",
    "CREATE FAILOVER GROUP <failover_group_name>\n",
    "  AS REPLICA OF <primary_account_name>.<failover_group_name>;\n"
   ]
  },
  {
   "cell_type": "markdown",
   "id": "ce110000-1111-2222-3333-ffffff000003",
   "metadata": {
    "collapsed": false,
    "name": "cell4"
   },
   "source": [
    "## Step 2: (Optional) Link account objects by name\n",
    "\n",
    "If users/roles/warehouses were pre-created in the standby and lack global identifiers, link by name so replication aligns objects correctly.\n",
    "\n",
    "References:\n",
    "- [SYSTEM$LINK_ACCOUNT_OBJECTS_BY_NAME](https://docs.snowflake.com/en/sql-reference/functions/system_link_account_objects_by_name)"
   ]
  },
  {
   "cell_type": "code",
   "execution_count": null,
   "id": "ce110000-1111-2222-3333-ffffff000004",
   "metadata": {
    "language": "sql",
    "name": "cell5",
    "vscode": {
     "languageId": "sql"
    }
   },
   "outputs": [],
   "source": [
    "-- Role: ACCOUNTADMIN (standby account)\n",
    "SELECT SYSTEM$LINK_ACCOUNT_OBJECTS_BY_NAME('<failover_group_name>');\n"
   ]
  },
  {
   "cell_type": "markdown",
   "id": "ce110000-1111-2222-3333-ffffff000005",
   "metadata": {
    "name": "cell6"
   },
   "source": [
    "## Step 3: Initial refresh of the replica\n",
    "\n",
    "Trigger a refresh on the standby to pull the latest state from the primary failover group.\n"
   ]
  },
  {
   "cell_type": "code",
   "execution_count": null,
   "id": "ce110000-1111-2222-3333-ffffff000006",
   "metadata": {
    "language": "sql",
    "name": "cell7",
    "vscode": {
     "languageId": "sql"
    }
   },
   "outputs": [],
   "source": [
    "-- Role: ACCOUNTADMIN (standby account)\n",
    "ALTER FAILOVER GROUP <failover_group_name> REFRESH;\n"
   ]
  }
 ],
 "metadata": {
  "language_info": {
   "name": "python"
  },
  "lastEditStatus": {
   "authorEmail": "ted.readyhough@snowflake.com",
   "authorId": "5040097105204",
   "authorName": "TREADYHOUGH",
   "lastEditTime": 1761762339624,
   "notebookId": "wpdkczklt4f3lftsbk7a",
   "sessionId": "6a1106f5-0704-49ae-b59c-3954f9e0df95"
  }
 },
 "nbformat": 4,
 "nbformat_minor": 2
}
