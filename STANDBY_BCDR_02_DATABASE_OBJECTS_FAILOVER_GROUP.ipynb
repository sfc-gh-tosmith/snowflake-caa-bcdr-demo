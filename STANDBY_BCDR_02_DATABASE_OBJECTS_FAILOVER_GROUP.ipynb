{
 "cells": [
  {
   "cell_type": "markdown",
   "id": "ce110000-1111-2222-3333-ffffff000000",
   "metadata": {
    "collapsed": false,
    "name": "cell1"
   },
   "source": [
    "# Failover Group Setup — Secondary Account\n",
    "\n",
    "Replace placeholders `<ORG_NAME>`, `<PRIMARY_ACCOUNT_NAME>`, and `<SECONDARY_ACCOUNT_NAME>` with your Snowflake identifiers.\n",
    "\n",
    "This notebook creates the secondary (replica) failover group from the primary and performs an initial refresh, then verifies configuration.\n"
   ]
  },
  {
   "cell_type": "code",
   "execution_count": null,
   "id": "ce110000-1111-2222-3333-ffffff000001",
   "metadata": {
    "language": "sql",
    "name": "cell2",
    "vscode": {
     "languageId": "sql"
    }
   },
   "outputs": [],
   "source": [
    "-- Use an admin role with replication privileges\n",
    "USE ROLE ACCOUNTADMIN;\n",
    "\n",
    "-- Create the secondary failover group as a replica of the primary\n",
    "-- Replace <ORG_NAME> and <PRIMARY_ACCOUNT_NAME>\n",
    "CREATE  FAILOVER GROUP <failover_group_name>\n",
    "  AS REPLICA OF <primary_account_name>.<failover_group_name>;\n",
    "\n"
   ]
  },
  {
   "cell_type": "markdown",
   "id": "784480bd-8e04-4892-b057-28f418055964",
   "metadata": {
    "collapsed": false,
    "name": "cell4"
   },
   "source": [
    "# Perform Manual Refresh\n",
    "\n",
    "The create of the failover group will automatically perform a refresh."
   ]
  },
  {
   "cell_type": "code",
   "execution_count": null,
   "id": "7bdeccb0-a50f-48e6-93d2-1c6cf5da2265",
   "metadata": {
    "language": "sql",
    "name": "cell3"
   },
   "outputs": [],
   "source": [
    "-- Initial sync (can also rely on the schedule from primary)\n",
    "ALTER FAILOVER GROUP <failover_group_name> REFRESH;\n",
    "\n"
   ]
  },
  {
   "cell_type": "code",
   "execution_count": null,
   "id": "aaea7c61-b1cf-47f8-88d3-f13597e99469",
   "metadata": {
    "language": "sql",
    "name": "cell5"
   },
   "outputs": [],
   "source": []
  }
 ],
 "metadata": {
  "language_info": {
   "name": "python"
  },
  "lastEditStatus": {
   "authorEmail": "ted.readyhough@snowflake.com",
   "authorId": "5040097105204",
   "authorName": "TREADYHOUGH",
   "lastEditTime": 1761742302259,
   "notebookId": "tdutzwh6klwcr7rqtcus",
   "sessionId": "e144d718-08ec-4c5e-82f5-2c7b20538b24"
  }
 },
 "nbformat": 4,
 "nbformat_minor": 2
}
