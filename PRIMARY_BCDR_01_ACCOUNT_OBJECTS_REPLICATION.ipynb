{
 "cells": [
  {
   "cell_type": "markdown",
   "id": "ce110000-1111-2222-3333-ffffff000000",
   "metadata": {
    "name": "cell1"
   },
   "source": [
    "# BC/DR: Synchronize Account-Level Objects Between Primary and Standby (Snowflake)\n",
    "\n",
    "This Snowflake Notebook sets up replication of account-level objects from a primary account to a standby account as part of BC/DR. It uses failover groups to replicate objects such as users, roles, warehouses, and more. It also shows how to schedule the replication frequency.\n",
    "\n",
    "- Replace placeholders like `<ORG_NAME>`, `<PRIMARY_ACCOUNT_NAME>`, `<STANDBY_ACCOUNT_NAME>`, `<WAREHOUSE_NAME>`.\n",
    "- Run cells with the appropriate role indicated in each section.\n",
    "\n",
    "References:\n",
    "- [Account Replication and Failover Overview](https://docs.snowflake.com/en/user-guide/account-replication-intro)\n",
    "- [Replicating Databases and Account Objects Across Multiple Accounts](https://docs.snowflake.com/en/user-guide/account-replication-config)\n",
    "\n"
   ]
  },
  {
   "cell_type": "markdown",
   "id": "ce110000-1111-2222-3333-ffffff000001",
   "metadata": {
    "name": "cell2"
   },
   "source": [
    "## Prerequisites and context\n",
    "\n",
    "- You need `ORGADMIN` for org-wide enablement and `ACCOUNTADMIN` in each account.\n",
    "- Ensure network and security policies allow cross-account replication per your org standards.\n",
    "- Replace placeholders like `<ORG_NAME>.<PRIMARY_ACCOUNT_NAME>` and `<ORG_NAME>.<STANDBY_ACCOUNT_NAME>`.\n",
    "\n",
    "Useful docs:\n",
    "- [Introduction to replication & failover](https://docs.snowflake.com/en/user-guide/replication-intro)\n",
    "- [Account object replication considerations](https://docs.snowflake.com/en/user-guide/account-replication-considerations)\n"
   ]
  },
  {
   "cell_type": "markdown",
   "id": "ce110000-1111-2222-3333-ffffff000002",
   "metadata": {
    "name": "cell3"
   },
   "source": [
    "## Step 1: Enable replication features for accounts (run as ORGADMIN)\n",
    "\n",
    "Enable replication for each Snowflake account involved. This allows account object/database replication across accounts in the org.\n",
    "\n",
    "Docs:\n",
    "- [SYSTEM$GLOBAL_ACCOUNT_SET_PARAMETER](https://docs.snowflake.com/en/sql-reference/functions/system_global_account_set_parameter)\n"
   ]
  },
  {
   "cell_type": "code",
   "execution_count": null,
   "id": "ce110000-1111-2222-3333-ffffff000003",
   "metadata": {
    "language": "python",
    "name": "cell4",
    "vscode": {
     "languageId": "sql"
    }
   },
   "outputs": [],
   "source": [
    "-- Role: ORGADMIN\n",
    "-- Purpose: Enable replication for both accounts in the org\n",
    "USE ROLE ORGADMIN;\n",
    "\n",
    "-- Replace with your org and account names\n",
    "SELECT SYSTEM$GLOBAL_ACCOUNT_SET_PARAMETER('<ORG_NAME>.<PRIMARY_ACCOUNT_NAME>', 'ENABLE_ACCOUNT_DATABASE_REPLICATION', 'true');\n",
    "SELECT SYSTEM$GLOBAL_ACCOUNT_SET_PARAMETER('<ORG_NAME>.<STANDBY_ACCOUNT_NAME>', 'ENABLE_ACCOUNT_DATABASE_REPLICATION', 'true');\n"
   ]
  },
  {
   "cell_type": "markdown",
   "id": "ce110000-1111-2222-3333-ffffff000004",
   "metadata": {
    "name": "cell5"
   },
   "source": [
    "## Step 2: Create primary failover group for account objects (run in primary as ACCOUNTADMIN)\n",
    "\n",
    "Use a failover group to replicate account-level objects and (optionally) databases to the standby account. You can also set an automatic replication schedule on the group.\n",
    "\n",
    "Note: For `OBJECT_TYPES` and `ALLOWED_ACCOUNTS`, provide comma-separated lists without parentheses or single quotes (e.g., `OBJECT_TYPES = USERS, ROLES, WAREHOUSES`).\n",
    "\n",
    "Docs:\n",
    "- [Replicating databases and account objects across multiple accounts](https://docs.snowflake.com/en/user-guide/account-replication-config)\n",
    "- [CREATE FAILOVER GROUP](https://docs.snowflake.com/en/sql-reference/sql/create-failover-group)\n"
   ]
  },
  {
   "cell_type": "code",
   "execution_count": null,
   "id": "ce110000-1111-2222-3333-ffffff000005",
   "metadata": {
    "language": "sql",
    "name": "cell6",
    "vscode": {
     "languageId": "sql"
    }
   },
   "outputs": [],
   "source": [
    "-- Role: ACCOUNTADMIN (primary account)\n",
    "USE ROLE ACCOUNTADMIN;\n",
    "--drop failover group BCDR_ACCOUNT_OBJECTS;\n",
    "CREATE FAILOVER GROUP BCDR_ACCOUNT_OBJECTS\n",
    "  OBJECT_TYPES =  WAREHOUSES, ACCOUNT PARAMETERS, NETWORK POLICIES, DATABASES\n",
    "  --, RESOURCE USERS, ROLES, MONITORS\n",
    "  ALLOWED_DATABASES = <database name>\n",
    "  ALLOWED_ACCOUNTS = <remote account name>\n",
    "  REPLICATION_SCHEDULE = '10 MINUTE';  -- or a CRON, e.g., 'USING CRON 0 */1 * * * UTC';"
   ]
  },
  {
   "cell_type": "markdown",
   "id": "28837e32-e0b5-46c1-bbb0-7f802778a6d3",
   "metadata": {
    "collapsed": false,
    "name": "cell10"
   },
   "source": [
    "## Alter Failover Group\n",
    "\n",
    "Add or remove objects to a failover group\n"
   ]
  },
  {
   "cell_type": "code",
   "execution_count": null,
   "id": "bc5d0c77-f24b-4509-a4c8-4efc6191afe2",
   "metadata": {
    "language": "sql",
    "name": "cell8"
   },
   "outputs": [],
   "source": [
    "ALTER FAILOVER GROUP BCDR_ACCOUNT_OBJECTS\n",
    "  SET OBJECT_TYPES =  WAREHOUSES, ACCOUNT PARAMETERS, NETWORK POLICIES, DATABASES, USERS, ROLES;"
   ]
  },
  {
   "cell_type": "code",
   "execution_count": null,
   "id": "55107e51-a4c7-4005-b8ee-a8e7eacd37b9",
   "metadata": {
    "language": "sql",
    "name": "cell18"
   },
   "outputs": [],
   "source": [
    "ALTER FAILOVER GROUP BCDR_ACCOUNT_OBJECTS\n",
    "  SET allowed_databases = <comman separated list of databases names>;"
   ]
  },
  {
   "cell_type": "markdown",
   "id": "ce110000-1111-2222-3333-ffffff000006",
   "metadata": {
    "collapsed": false,
    "name": "cell7"
   },
   "source": [
    "## Standby steps moved to a separate notebook\n",
    "\n",
    "Run standby procedures in: `BCDR_01_Standby_Account_Objects_Replica.ipynb`.\n",
    "\n",
    "That notebook includes:\n",
    "- Create replica failover group in standby\n",
    "- Optional: Link account objects by name\n",
    "- Initial refresh of the replica\n",
    "- Verification\n",
    "\n",
    "Docs:\n",
    "- [CREATE FAILOVER GROUP](https://docs.snowflake.com/en/sql-reference/sql/create-failover-group)\n",
    "- [ALTER FAILOVER GROUP ... REFRESH](https://docs.snowflake.com/en/sql-reference/sql/alter-failover-group)\n",
    "- [SYSTEM$LINK_ACCOUNT_OBJECTS_BY_NAME](https://docs.snowflake.com/en/sql-reference/functions/system_link_account_objects_by_name)\n"
   ]
  },
  {
   "cell_type": "markdown",
   "id": "ce110000-1111-2222-3333-ffffff000012",
   "metadata": {
    "name": "cell13"
   },
   "source": [
    "## Step 6: Schedule replication frequency\n",
    "\n",
    "You can schedule replication in two ways:\n",
    "\n",
    "1) Use the failover group’s built-in `REPLICATION_SCHEDULE` (set in Step 2). Update it via `ALTER FAILOVER GROUP`.\n",
    "2) Create a Snowflake task that periodically executes `ALTER FAILOVER GROUP ... REFRESH`.\n",
    "\n",
    "Choose one approach that meets your RPO and operational model.\n",
    "\n",
    "Docs:\n",
    "- [CREATE/ALTER FAILOVER GROUP](https://docs.snowflake.com/en/sql-reference/sql/alter-failover-group)\n",
    "- [Tasks: scheduling syntax & CRON](https://docs.snowflake.com/en/user-guide/tasks-intro)\n"
   ]
  },
  {
   "cell_type": "code",
   "execution_count": null,
   "id": "ce110000-1111-2222-3333-ffffff000013",
   "metadata": {
    "language": "sql",
    "name": "cell14",
    "vscode": {
     "languageId": "sql"
    }
   },
   "outputs": [],
   "source": [
    "-- Option A: Adjust the built-in schedule on the failover group (primary account)\n",
    "USE ROLE ACCOUNTADMIN;\n",
    "ALTER FAILOVER GROUP BCDR_ACCOUNT_OBJECTS SET REPLICATION_SCHEDULE = '1440 MINUTE'; -- setting to 1 day\n",
    "-- OR CRON format (example: top of every hour UTC):\n",
    "--ALTER FAILOVER GROUP BCDR_ACCOUNT_OBJECTS SET REPLICATION_SCHEDULE = 'USING CRON 0 * * * * UTC';\n"
   ]
  },
  {
   "cell_type": "code",
   "execution_count": null,
   "id": "ce110000-1111-2222-3333-ffffff000014",
   "metadata": {
    "language": "sql",
    "name": "cell15",
    "vscode": {
     "languageId": "sql"
    }
   },
   "outputs": [],
   "source": [
    "-- Option B: Create a task to refresh the failover group (primary account)\n",
    "USE ROLE ACCOUNTADMIN;\n",
    "CREATE OR REPLACE TASK BCDR_ACCOUNT_OBJECTS_REFRESH\n",
    "  WAREHOUSE = <WAREHOUSE_NAME>\n",
    "  SCHEDULE = '10 MINUTE'  -- or 'USING CRON 0 */1 * * * UTC'\n",
    "  USER_TASK_TIMEOUT_MS = 3600000\n",
    "AS\n",
    "  ALTER FAILOVER GROUP BCDR_ACCOUNT_OBJECTS REFRESH;\n",
    "\n",
    "ALTER TASK BCDR_ACCOUNT_OBJECTS_REFRESH RESUME;\n"
   ]
  },
  {
   "cell_type": "markdown",
   "id": "ce110000-1111-2222-3333-ffffff000015",
   "metadata": {
    "collapsed": false,
    "name": "cell16"
   },
   "source": [
    "## Step 7: Verify and monitor\n",
    "\n",
    "Use the following commands to review failover groups and replication databases, and confirm schedules and last refresh times.\n",
    "\n",
    "Docs:\n",
    "- [SHOW FAILOVER GROUPS](https://docs.snowflake.com/en/sql-reference/sql/show-failover-groups)\n",
    "- [SHOW REPLICATION DATABASES](https://docs.snowflake.com/en/sql-reference/sql/show-replication-databases)\n"
   ]
  },
  {
   "cell_type": "code",
   "execution_count": null,
   "id": "ce110000-1111-2222-3333-ffffff000016",
   "metadata": {
    "language": "sql",
    "name": "cell17",
    "vscode": {
     "languageId": "sql"
    }
   },
   "outputs": [],
   "source": [
    "-- View failover groups and schedules (primary or standby)\n",
    "SHOW FAILOVER GROUPS;\n",
    "\n",
    "-- View replication databases (for visibility into database-level replication status)\n",
    "--SHOW REPLICATION DATABASES;\n"
   ]
  },
  {
   "cell_type": "markdown",
   "id": "9c4a62a0-d581-4e6b-afec-92312bfe09fa",
   "metadata": {
    "collapsed": false,
    "name": "cell11"
   },
   "source": [
    "## Step 8: (Optional) Configure client redirect\n",
    "\n",
    "Client Redirect enables redirecting your client connections to Snowflake accounts in different regions without changing the connection settings for your application. \n",
    "\n",
    "NOTE: This can be done via SQL or via the UI\n",
    "\n",
    "Docs:\n",
    "- [REDIRECTING CLIENT CONNECTIONS](https://docs.snowflake.com/en/user-guide/client-redirect)"
   ]
  },
  {
   "cell_type": "code",
   "execution_count": null,
   "id": "85679c72-115c-49d1-a2f0-002e12c27efe",
   "metadata": {
    "language": "sql",
    "name": "cell12"
   },
   "outputs": [],
   "source": [
    "-- Create a new primary connection\n",
    "CREATE CONNECTION <connection name>;\n",
    "\n",
    "-- View accounts in your organization that are enabled for replication\n",
    "SHOW REPLICATION ACCOUNTS;\n",
    "\n",
    "-- Configure failover accounts for the primary connection\n",
    "ALTER CONNECTION <connection name>\n",
    "  ENABLE FAILOVER TO ACCOUNTS <allowed accounts>;\n",
    "\n",
    "-- View the details for the connection\n",
    "SHOW CONNECTIONS;"
   ]
  },
  {
   "cell_type": "code",
   "execution_count": null,
   "id": "26e2a931-3fa6-4514-a016-e9e562dfa676",
   "metadata": {
    "language": "sql",
    "name": "cell9"
   },
   "outputs": [],
   "source": [
    "-- cleanup if needed\n",
    "-- drop failover group BCDR_ACCOUNT_OBJECTS;"
   ]
  }
 ],
 "metadata": {
  "language_info": {
   "name": "python"
  },
  "lastEditStatus": {
   "authorEmail": "ted.readyhough@snowflake.com",
   "authorId": "1381880110420",
   "authorName": "TREADYHOUGH",
   "lastEditTime": 1761583707992,
   "notebookId": "7lajowovmgxb7t5cukoa",
   "sessionId": "7d41de52-8ae0-4bec-9af2-62614642d36a"
  }
 },
 "nbformat": 4,
 "nbformat_minor": 2
}
